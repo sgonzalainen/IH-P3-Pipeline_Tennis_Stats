{
 "cells": [
  {
   "cell_type": "code",
   "execution_count": 14,
   "metadata": {},
   "outputs": [],
   "source": [
    "import pandas as pd\n",
    "import re\n",
    "pd.set_option('display.max_columns', None)"
   ]
  },
  {
   "cell_type": "code",
   "execution_count": 15,
   "metadata": {},
   "outputs": [],
   "source": [
    "from src.myfunctions import Clean as mfc"
   ]
  },
  {
   "cell_type": "code",
   "execution_count": 11,
   "metadata": {},
   "outputs": [
    {
     "name": "stdout",
     "output_type": "stream",
     "text": [
      "The autoreload extension is already loaded. To reload it, use:\n",
      "  %reload_ext autoreload\n"
     ]
    }
   ],
   "source": [
    "%load_ext autoreload\n",
    "%autoreload 2"
   ]
  },
  {
   "cell_type": "code",
   "execution_count": 121,
   "metadata": {},
   "outputs": [],
   "source": [
    "main_player =  'Nadal R.'"
   ]
  },
  {
   "cell_type": "code",
   "execution_count": 122,
   "metadata": {},
   "outputs": [],
   "source": [
    "df = pd.read_csv('data/kaggle_dataset/Data.csv', engine='python')"
   ]
  },
  {
   "cell_type": "code",
   "execution_count": 123,
   "metadata": {},
   "outputs": [],
   "source": [
    "df = df.iloc[:,0:26] #rest of columns are related to bets. "
   ]
  },
  {
   "cell_type": "code",
   "execution_count": 124,
   "metadata": {},
   "outputs": [],
   "source": [
    "df = mfc.filter_games(df, main_player) #filter games with main player in match"
   ]
  },
  {
   "cell_type": "code",
   "execution_count": 125,
   "metadata": {},
   "outputs": [],
   "source": [
    "df['Opponent'] = df.apply(lambda x: mfc.set_opponent(x,main_player), axis = 1) #to specify opponent"
   ]
  },
  {
   "cell_type": "code",
   "execution_count": 126,
   "metadata": {},
   "outputs": [],
   "source": [
    "df['Is_winner'] = df.Winner.apply(lambda x: mfc.is_winner(x, main_player)) #to specify if main player won or not"
   ]
  },
  {
   "cell_type": "code",
   "execution_count": 263,
   "metadata": {},
   "outputs": [],
   "source": [
    "surname_dict_count = df_1.name.apply(lambda x: x.rsplit(' ',1)[-1]).value_counts().to_dict()"
   ]
  },
  {
   "cell_type": "code",
   "execution_count": 264,
   "metadata": {},
   "outputs": [],
   "source": [
    "def match_single_surname(name, df_1, surname_dict_count):\n",
    "    \n",
    "\n",
    "    name = name.split(' ',1)[0]\n",
    "\n",
    "    cond = (name in surname_dict_count) and (surname_dict_count.get(name) == 1)   \n",
    "\n",
    "    if cond:\n",
    "        match_name = df_1[df_1[\"name\"].str.find(name) > 0].name.to_list()[0]\n",
    "        return match_name\n",
    "    else:\n",
    "        return 'No match'\n",
    "\n",
    "    \n",
    "    \n",
    "    "
   ]
  },
  {
   "cell_type": "code",
   "execution_count": 265,
   "metadata": {},
   "outputs": [],
   "source": [
    "df['matched'] = df.Opponent.apply(lambda x: match_single_surname(x, df_1,surname_dict_count))"
   ]
  },
  {
   "cell_type": "code",
   "execution_count": 266,
   "metadata": {},
   "outputs": [],
   "source": [
    "name_surname_dict = df_1.name.apply(lambda x: x.split(' ',1)[1]+' '+x.split(' ',1)[0][0]+'.').value_counts().to_dict()"
   ]
  },
  {
   "cell_type": "code",
   "execution_count": 267,
   "metadata": {},
   "outputs": [],
   "source": [
    "def match_name_surname(row, df_1, name_surname_dict):\n",
    "    name = row['Opponent']\n",
    "    if (name in name_surname_dict) and (name_surname_dict.get(name) == 1):\n",
    "        \n",
    "        surname = name.split(' ',1)[0]\n",
    "        initial = name.split(' ',1)[1].rsplit('.',1)[0]\n",
    "        \n",
    "        for player in df_1['name'].to_list():\n",
    "            cond =  len(re.findall(r'\\b' + re.escape(initial)+'.*'+re.escape(surname), player)) > 0\n",
    "            \n",
    "            if cond:\n",
    "                \n",
    "                return player\n",
    "            else:\n",
    "                pass\n",
    "\n",
    "    else:\n",
    "        return 'No match'\n",
    "        \n",
    "        "
   ]
  },
  {
   "cell_type": "code",
   "execution_count": 268,
   "metadata": {},
   "outputs": [],
   "source": [
    "df['matched1'] = df.apply(lambda x: match_name_surname(x, df_1,name_surname_dict) if x.matched == 'No match' else x.matched, axis = 1)"
   ]
  },
  {
   "cell_type": "code",
   "execution_count": 269,
   "metadata": {},
   "outputs": [
    {
     "data": {
      "text/plain": [
       "No match          266\n",
       "Novak Djokovic     47\n",
       "Roger Federer      34\n",
       "David Ferrer       30\n",
       "Andy Murray        25\n",
       "                 ... \n",
       "Daniel Brands       1\n",
       "Jan Hernych         1\n",
       "Dusan Lajovic       1\n",
       "Samuel Groth        1\n",
       "Di Wu               1\n",
       "Name: matched1, Length: 135, dtype: int64"
      ]
     },
     "execution_count": 269,
     "metadata": {},
     "output_type": "execute_result"
    }
   ],
   "source": [
    "df.matched1.value_counts()"
   ]
  },
  {
   "cell_type": "code",
   "execution_count": 270,
   "metadata": {},
   "outputs": [
    {
     "data": {
      "text/plain": [
       "248"
      ]
     },
     "execution_count": 270,
     "metadata": {},
     "output_type": "execute_result"
    }
   ],
   "source": [
    "df.Opponent.nunique()"
   ]
  },
  {
   "cell_type": "code",
   "execution_count": 271,
   "metadata": {},
   "outputs": [
    {
     "data": {
      "text/plain": [
       "Del Potro J.M.    12\n",
       "Gonzalez F.        9\n",
       "Ljubicic I.        9\n",
       "Ferrero J.C.       9\n",
       "Soderling R.       8\n",
       "                  ..\n",
       "Costa A.           1\n",
       "Wang Y.T.          1\n",
       "Gimelstob J.       1\n",
       "De Voest R.        1\n",
       "Sluiter R.         1\n",
       "Name: Opponent, Length: 107, dtype: int64"
      ]
     },
     "execution_count": 271,
     "metadata": {},
     "output_type": "execute_result"
    }
   ],
   "source": [
    "df[df.matched1=='No match'].Opponent.value_counts()"
   ]
  },
  {
   "cell_type": "code",
   "execution_count": 186,
   "metadata": {},
   "outputs": [
    {
     "data": {
      "text/plain": [
       "Index(['Age', 'Country', 'Birthplace', 'Residence', 'Height', 'Weight',\n",
       "       'Plays', 'Backhand', 'Favorite Surface', 'Coach', 'Turned Pro',\n",
       "       'Seasons', 'Active', 'Prize Money', 'Wikipedia', 'Web Site', 'Facebook',\n",
       "       'Twitter', 'Nicknames', 'Ace %', 'Double Fault %', '1st Serve %',\n",
       "       '1st Serve Won %', '2nd Serve Won %', 'Break Points Saved %',\n",
       "       'Service Points Won %', 'Service Games Won %', 'Ace Against %',\n",
       "       'Double Fault Against %', '1st Srv. Return Won %',\n",
       "       '2nd Srv. Return Won %', 'Break Points Won %', 'Return Points Won %',\n",
       "       'Return Games Won %', 'Points Dominance', 'Games Dominance',\n",
       "       'Break Points Ratio', 'Total Points Won %', 'Games Won %', 'Sets Won %',\n",
       "       'Matches Won %', 'Match Time', 'name', 'Retired', 'Total Games Played',\n",
       "       'Total Games Won', 'Games per Set', 'Games per Match',\n",
       "       'Tie-Breaks Played', 'Tie-Breaks Won', 'Tie-Breaks Won %',\n",
       "       'Tie-Breaks per Set %', 'Tie-Breaks per Match'],\n",
       "      dtype='object')"
      ]
     },
     "execution_count": 186,
     "metadata": {},
     "output_type": "execute_result"
    }
   ],
   "source": [
    "df_1.columns"
   ]
  },
  {
   "cell_type": "code",
   "execution_count": null,
   "metadata": {},
   "outputs": [],
   "source": [
    "\n",
    "col_names_fixed = list(map(mfc.clean_col_names,list(df.columns)))\n",
    "rename_col_dict = {col: col_names_fixed[i] for i, col in enumerate(df.columns)}\n",
    "df = df.rename(columns = rename_col_dict )"
   ]
  },
  {
   "cell_type": "code",
   "execution_count": 238,
   "metadata": {},
   "outputs": [],
   "source": [
    "players_info_path = 'data/scraped_dataset/players_info.json'"
   ]
  },
  {
   "cell_type": "code",
   "execution_count": 256,
   "metadata": {},
   "outputs": [],
   "source": [
    "df_1 = pd.read_json(players_info_path)"
   ]
  },
  {
   "cell_type": "code",
   "execution_count": 257,
   "metadata": {
    "scrolled": true
   },
   "outputs": [],
   "source": [
    "df_1.Height = df_1.Height.apply(lambda x: str(x).replace('cm','').strip())"
   ]
  },
  {
   "cell_type": "code",
   "execution_count": 258,
   "metadata": {
    "scrolled": true
   },
   "outputs": [],
   "source": [
    "df_1.Weight = df_1.Weight.apply(lambda x: str(x).replace('kg','').strip())"
   ]
  },
  {
   "cell_type": "code",
   "execution_count": 259,
   "metadata": {},
   "outputs": [],
   "source": [
    "df_1 = df_1.apply(lambda x: [str(elem).replace('%','').strip() if '%' in str(elem) else elem for elem in x ])"
   ]
  },
  {
   "cell_type": "code",
   "execution_count": 260,
   "metadata": {},
   "outputs": [],
   "source": [
    "df_1[columns_num] = df_1[columns_num].apply(lambda x: [ None if ele =='' else float(ele) if ele != None else None for ele in x])"
   ]
  },
  {
   "cell_type": "code",
   "execution_count": 261,
   "metadata": {},
   "outputs": [],
   "source": [
    "ace_threshold = df_1['Ace %'].quantile(0.85)"
   ]
  },
  {
   "cell_type": "code",
   "execution_count": 262,
   "metadata": {},
   "outputs": [],
   "source": [
    "df_1['great_serve'] = df_1['Ace %'].dropna().apply(lambda x: True if float(x) > ace_threshold else False)"
   ]
  },
  {
   "cell_type": "code",
   "execution_count": 246,
   "metadata": {},
   "outputs": [
    {
     "data": {
      "text/plain": [
       "Index(['Age', 'Country', 'Birthplace', 'Residence', 'Height', 'Weight',\n",
       "       'Plays', 'Backhand', 'Favorite Surface', 'Coach', 'Turned Pro',\n",
       "       'Seasons', 'Active', 'Prize Money', 'Wikipedia', 'Web Site', 'Facebook',\n",
       "       'Twitter', 'Nicknames', 'Ace %', 'Double Fault %', '1st Serve %',\n",
       "       '1st Serve Won %', '2nd Serve Won %', 'Break Points Saved %',\n",
       "       'Service Points Won %', 'Service Games Won %', 'Ace Against %',\n",
       "       'Double Fault Against %', '1st Srv. Return Won %',\n",
       "       '2nd Srv. Return Won %', 'Break Points Won %', 'Return Points Won %',\n",
       "       'Return Games Won %', 'Points Dominance', 'Games Dominance',\n",
       "       'Break Points Ratio', 'Total Points Won %', 'Games Won %', 'Sets Won %',\n",
       "       'Matches Won %', 'Match Time', 'name', 'Retired', 'Total Games Played',\n",
       "       'Total Games Won', 'Games per Set', 'Games per Match',\n",
       "       'Tie-Breaks Played', 'Tie-Breaks Won', 'Tie-Breaks Won %',\n",
       "       'Tie-Breaks per Set %', 'Tie-Breaks per Match', 'great_serve'],\n",
       "      dtype='object')"
      ]
     },
     "execution_count": 246,
     "metadata": {},
     "output_type": "execute_result"
    }
   ],
   "source": [
    "df_1.columns"
   ]
  },
  {
   "cell_type": "code",
   "execution_count": 228,
   "metadata": {},
   "outputs": [
    {
     "data": {
      "text/plain": [
       "(800, 54)"
      ]
     },
     "execution_count": 228,
     "metadata": {},
     "output_type": "execute_result"
    }
   ],
   "source": [
    "df_1.shape"
   ]
  },
  {
   "cell_type": "markdown",
   "metadata": {},
   "source": [
    "## MERGE"
   ]
  },
  {
   "cell_type": "code",
   "execution_count": 206,
   "metadata": {},
   "outputs": [],
   "source": [
    "df_players_merge = df_1[['name','Country','Plays', 'Backhand', 'great_serve']]"
   ]
  },
  {
   "cell_type": "code",
   "execution_count": 207,
   "metadata": {},
   "outputs": [
    {
     "data": {
      "text/plain": [
       "Index(['ATP', 'Location', 'Tournament', 'Date', 'Series', 'Court', 'Surface',\n",
       "       'Round', 'Best of', 'Winner', 'Loser', 'WRank', 'LRank', 'W1', 'L1',\n",
       "       'W2', 'L2', 'W3', 'L3', 'W4', 'L4', 'W5', 'L5', 'Wsets', 'Lsets',\n",
       "       'Comment', 'Opponent', 'Is_winner', 'matched', 'matched1'],\n",
       "      dtype='object')"
      ]
     },
     "execution_count": 207,
     "metadata": {},
     "output_type": "execute_result"
    }
   ],
   "source": [
    "df.columns"
   ]
  },
  {
   "cell_type": "code",
   "execution_count": 209,
   "metadata": {},
   "outputs": [
    {
     "data": {
      "text/plain": [
       "2nd Round        210\n",
       "Quarterfinals    169\n",
       "3rd Round        145\n",
       "Semifinals       134\n",
       "1st Round        118\n",
       "The Final        100\n",
       "4th Round         53\n",
       "Round Robin       21\n",
       "Name: Round, dtype: int64"
      ]
     },
     "execution_count": 209,
     "metadata": {},
     "output_type": "execute_result"
    }
   ],
   "source": [
    "df.Round.value_counts()"
   ]
  },
  {
   "cell_type": "code",
   "execution_count": 210,
   "metadata": {},
   "outputs": [
    {
     "data": {
      "text/html": [
       "<div>\n",
       "<style scoped>\n",
       "    .dataframe tbody tr th:only-of-type {\n",
       "        vertical-align: middle;\n",
       "    }\n",
       "\n",
       "    .dataframe tbody tr th {\n",
       "        vertical-align: top;\n",
       "    }\n",
       "\n",
       "    .dataframe thead th {\n",
       "        text-align: right;\n",
       "    }\n",
       "</style>\n",
       "<table border=\"1\" class=\"dataframe\">\n",
       "  <thead>\n",
       "    <tr style=\"text-align: right;\">\n",
       "      <th></th>\n",
       "      <th>ATP</th>\n",
       "      <th>Location</th>\n",
       "      <th>Tournament</th>\n",
       "      <th>Date</th>\n",
       "      <th>Series</th>\n",
       "      <th>Court</th>\n",
       "      <th>Surface</th>\n",
       "      <th>Round</th>\n",
       "      <th>Best of</th>\n",
       "      <th>Winner</th>\n",
       "      <th>Loser</th>\n",
       "      <th>WRank</th>\n",
       "      <th>LRank</th>\n",
       "      <th>W1</th>\n",
       "      <th>L1</th>\n",
       "      <th>W2</th>\n",
       "      <th>L2</th>\n",
       "      <th>W3</th>\n",
       "      <th>L3</th>\n",
       "      <th>W4</th>\n",
       "      <th>L4</th>\n",
       "      <th>W5</th>\n",
       "      <th>L5</th>\n",
       "      <th>Wsets</th>\n",
       "      <th>Lsets</th>\n",
       "      <th>Comment</th>\n",
       "      <th>Opponent</th>\n",
       "      <th>Is_winner</th>\n",
       "      <th>matched</th>\n",
       "      <th>matched1</th>\n",
       "    </tr>\n",
       "  </thead>\n",
       "  <tbody>\n",
       "    <tr>\n",
       "      <th>9680</th>\n",
       "      <td>23</td>\n",
       "      <td>Monte Carlo</td>\n",
       "      <td>Monte Carlo Masters</td>\n",
       "      <td>15/04/2003</td>\n",
       "      <td>Masters</td>\n",
       "      <td>Outdoor</td>\n",
       "      <td>Clay</td>\n",
       "      <td>1st Round</td>\n",
       "      <td>3</td>\n",
       "      <td>Nadal R.</td>\n",
       "      <td>Kucera K.</td>\n",
       "      <td>109</td>\n",
       "      <td>49</td>\n",
       "      <td>6.0</td>\n",
       "      <td>1.0</td>\n",
       "      <td>6.0</td>\n",
       "      <td>2.0</td>\n",
       "      <td>NaN</td>\n",
       "      <td>NaN</td>\n",
       "      <td>NaN</td>\n",
       "      <td>NaN</td>\n",
       "      <td>NaN</td>\n",
       "      <td>NaN</td>\n",
       "      <td>2.0</td>\n",
       "      <td>0.0</td>\n",
       "      <td>Completed</td>\n",
       "      <td>Kucera K.</td>\n",
       "      <td>True</td>\n",
       "      <td>No match</td>\n",
       "      <td>No match</td>\n",
       "    </tr>\n",
       "    <tr>\n",
       "      <th>9694</th>\n",
       "      <td>23</td>\n",
       "      <td>Monte Carlo</td>\n",
       "      <td>Monte Carlo Masters</td>\n",
       "      <td>16/04/2003</td>\n",
       "      <td>Masters</td>\n",
       "      <td>Outdoor</td>\n",
       "      <td>Clay</td>\n",
       "      <td>2nd Round</td>\n",
       "      <td>3</td>\n",
       "      <td>Nadal R.</td>\n",
       "      <td>Costa A.</td>\n",
       "      <td>109</td>\n",
       "      <td>7</td>\n",
       "      <td>7.0</td>\n",
       "      <td>5.0</td>\n",
       "      <td>6.0</td>\n",
       "      <td>3.0</td>\n",
       "      <td>NaN</td>\n",
       "      <td>NaN</td>\n",
       "      <td>NaN</td>\n",
       "      <td>NaN</td>\n",
       "      <td>NaN</td>\n",
       "      <td>NaN</td>\n",
       "      <td>2.0</td>\n",
       "      <td>0.0</td>\n",
       "      <td>Completed</td>\n",
       "      <td>Costa A.</td>\n",
       "      <td>True</td>\n",
       "      <td>No match</td>\n",
       "      <td>No match</td>\n",
       "    </tr>\n",
       "    <tr>\n",
       "      <th>9704</th>\n",
       "      <td>23</td>\n",
       "      <td>Monte Carlo</td>\n",
       "      <td>Monte Carlo Masters</td>\n",
       "      <td>17/04/2003</td>\n",
       "      <td>Masters</td>\n",
       "      <td>Outdoor</td>\n",
       "      <td>Clay</td>\n",
       "      <td>3rd Round</td>\n",
       "      <td>3</td>\n",
       "      <td>Coria G.</td>\n",
       "      <td>Nadal R.</td>\n",
       "      <td>26</td>\n",
       "      <td>109</td>\n",
       "      <td>7.0</td>\n",
       "      <td>6.0</td>\n",
       "      <td>6.0</td>\n",
       "      <td>2.0</td>\n",
       "      <td>NaN</td>\n",
       "      <td>NaN</td>\n",
       "      <td>NaN</td>\n",
       "      <td>NaN</td>\n",
       "      <td>NaN</td>\n",
       "      <td>NaN</td>\n",
       "      <td>2.0</td>\n",
       "      <td>0.0</td>\n",
       "      <td>Completed</td>\n",
       "      <td>Coria G.</td>\n",
       "      <td>False</td>\n",
       "      <td>Federico Coria</td>\n",
       "      <td>Federico Coria</td>\n",
       "    </tr>\n",
       "    <tr>\n",
       "      <th>9738</th>\n",
       "      <td>24</td>\n",
       "      <td>Barcelona</td>\n",
       "      <td>Open Seat Godo</td>\n",
       "      <td>22/04/2003</td>\n",
       "      <td>International Gold</td>\n",
       "      <td>Outdoor</td>\n",
       "      <td>Clay</td>\n",
       "      <td>1st Round</td>\n",
       "      <td>3</td>\n",
       "      <td>Nadal R.</td>\n",
       "      <td>Marin J.A.</td>\n",
       "      <td>96</td>\n",
       "      <td>137</td>\n",
       "      <td>6.0</td>\n",
       "      <td>0.0</td>\n",
       "      <td>NaN</td>\n",
       "      <td>NaN</td>\n",
       "      <td>NaN</td>\n",
       "      <td>NaN</td>\n",
       "      <td>NaN</td>\n",
       "      <td>NaN</td>\n",
       "      <td>NaN</td>\n",
       "      <td>NaN</td>\n",
       "      <td>1.0</td>\n",
       "      <td>0.0</td>\n",
       "      <td>Retired</td>\n",
       "      <td>Marin J.A.</td>\n",
       "      <td>True</td>\n",
       "      <td>No match</td>\n",
       "      <td>No match</td>\n",
       "    </tr>\n",
       "    <tr>\n",
       "      <th>9753</th>\n",
       "      <td>24</td>\n",
       "      <td>Barcelona</td>\n",
       "      <td>Open Seat Godo</td>\n",
       "      <td>23/04/2003</td>\n",
       "      <td>International Gold</td>\n",
       "      <td>Outdoor</td>\n",
       "      <td>Clay</td>\n",
       "      <td>2nd Round</td>\n",
       "      <td>3</td>\n",
       "      <td>Corretja A.</td>\n",
       "      <td>Nadal R.</td>\n",
       "      <td>17</td>\n",
       "      <td>96</td>\n",
       "      <td>3.0</td>\n",
       "      <td>6.0</td>\n",
       "      <td>6.0</td>\n",
       "      <td>2.0</td>\n",
       "      <td>6.0</td>\n",
       "      <td>1.0</td>\n",
       "      <td>NaN</td>\n",
       "      <td>NaN</td>\n",
       "      <td>NaN</td>\n",
       "      <td>NaN</td>\n",
       "      <td>2.0</td>\n",
       "      <td>1.0</td>\n",
       "      <td>Completed</td>\n",
       "      <td>Corretja A.</td>\n",
       "      <td>False</td>\n",
       "      <td>No match</td>\n",
       "      <td>No match</td>\n",
       "    </tr>\n",
       "  </tbody>\n",
       "</table>\n",
       "</div>"
      ],
      "text/plain": [
       "      ATP     Location           Tournament        Date              Series  \\\n",
       "9680   23  Monte Carlo  Monte Carlo Masters  15/04/2003             Masters   \n",
       "9694   23  Monte Carlo  Monte Carlo Masters  16/04/2003             Masters   \n",
       "9704   23  Monte Carlo  Monte Carlo Masters  17/04/2003             Masters   \n",
       "9738   24    Barcelona       Open Seat Godo  22/04/2003  International Gold   \n",
       "9753   24    Barcelona       Open Seat Godo  23/04/2003  International Gold   \n",
       "\n",
       "        Court Surface      Round  Best of       Winner       Loser WRank  \\\n",
       "9680  Outdoor    Clay  1st Round        3     Nadal R.   Kucera K.   109   \n",
       "9694  Outdoor    Clay  2nd Round        3     Nadal R.    Costa A.   109   \n",
       "9704  Outdoor    Clay  3rd Round        3     Coria G.    Nadal R.    26   \n",
       "9738  Outdoor    Clay  1st Round        3     Nadal R.  Marin J.A.    96   \n",
       "9753  Outdoor    Clay  2nd Round        3  Corretja A.    Nadal R.    17   \n",
       "\n",
       "     LRank   W1   L1   W2   L2   W3   L3  W4  L4  W5  L5  Wsets  Lsets  \\\n",
       "9680    49  6.0  1.0  6.0  2.0  NaN  NaN NaN NaN NaN NaN    2.0    0.0   \n",
       "9694     7  7.0  5.0  6.0  3.0  NaN  NaN NaN NaN NaN NaN    2.0    0.0   \n",
       "9704   109  7.0  6.0  6.0  2.0  NaN  NaN NaN NaN NaN NaN    2.0    0.0   \n",
       "9738   137  6.0  0.0  NaN  NaN  NaN  NaN NaN NaN NaN NaN    1.0    0.0   \n",
       "9753    96  3.0  6.0  6.0  2.0  6.0  1.0 NaN NaN NaN NaN    2.0    1.0   \n",
       "\n",
       "        Comment     Opponent  Is_winner         matched        matched1  \n",
       "9680  Completed    Kucera K.       True        No match        No match  \n",
       "9694  Completed     Costa A.       True        No match        No match  \n",
       "9704  Completed     Coria G.      False  Federico Coria  Federico Coria  \n",
       "9738    Retired   Marin J.A.       True        No match        No match  \n",
       "9753  Completed  Corretja A.      False        No match        No match  "
      ]
     },
     "execution_count": 210,
     "metadata": {},
     "output_type": "execute_result"
    }
   ],
   "source": [
    "df.head()"
   ]
  },
  {
   "cell_type": "code",
   "execution_count": 215,
   "metadata": {},
   "outputs": [],
   "source": [
    "df_games_merge = df.drop(['Winner', 'Loser', 'W1', 'L1',\n",
    "       'W2', 'L2', 'W3', 'L3', 'W4', 'L4', 'W5', 'L5','Comment'], axis = 1)"
   ]
  },
  {
   "cell_type": "code",
   "execution_count": 216,
   "metadata": {},
   "outputs": [
    {
     "data": {
      "text/html": [
       "<div>\n",
       "<style scoped>\n",
       "    .dataframe tbody tr th:only-of-type {\n",
       "        vertical-align: middle;\n",
       "    }\n",
       "\n",
       "    .dataframe tbody tr th {\n",
       "        vertical-align: top;\n",
       "    }\n",
       "\n",
       "    .dataframe thead th {\n",
       "        text-align: right;\n",
       "    }\n",
       "</style>\n",
       "<table border=\"1\" class=\"dataframe\">\n",
       "  <thead>\n",
       "    <tr style=\"text-align: right;\">\n",
       "      <th></th>\n",
       "      <th>ATP</th>\n",
       "      <th>Location</th>\n",
       "      <th>Tournament</th>\n",
       "      <th>Date</th>\n",
       "      <th>Series</th>\n",
       "      <th>Court</th>\n",
       "      <th>Surface</th>\n",
       "      <th>Round</th>\n",
       "      <th>Best of</th>\n",
       "      <th>WRank</th>\n",
       "      <th>LRank</th>\n",
       "      <th>Wsets</th>\n",
       "      <th>Lsets</th>\n",
       "      <th>Opponent</th>\n",
       "      <th>Is_winner</th>\n",
       "      <th>matched</th>\n",
       "      <th>matched1</th>\n",
       "    </tr>\n",
       "  </thead>\n",
       "  <tbody>\n",
       "    <tr>\n",
       "      <th>9680</th>\n",
       "      <td>23</td>\n",
       "      <td>Monte Carlo</td>\n",
       "      <td>Monte Carlo Masters</td>\n",
       "      <td>15/04/2003</td>\n",
       "      <td>Masters</td>\n",
       "      <td>Outdoor</td>\n",
       "      <td>Clay</td>\n",
       "      <td>1st Round</td>\n",
       "      <td>3</td>\n",
       "      <td>109</td>\n",
       "      <td>49</td>\n",
       "      <td>2.0</td>\n",
       "      <td>0.0</td>\n",
       "      <td>Kucera K.</td>\n",
       "      <td>True</td>\n",
       "      <td>No match</td>\n",
       "      <td>No match</td>\n",
       "    </tr>\n",
       "    <tr>\n",
       "      <th>9694</th>\n",
       "      <td>23</td>\n",
       "      <td>Monte Carlo</td>\n",
       "      <td>Monte Carlo Masters</td>\n",
       "      <td>16/04/2003</td>\n",
       "      <td>Masters</td>\n",
       "      <td>Outdoor</td>\n",
       "      <td>Clay</td>\n",
       "      <td>2nd Round</td>\n",
       "      <td>3</td>\n",
       "      <td>109</td>\n",
       "      <td>7</td>\n",
       "      <td>2.0</td>\n",
       "      <td>0.0</td>\n",
       "      <td>Costa A.</td>\n",
       "      <td>True</td>\n",
       "      <td>No match</td>\n",
       "      <td>No match</td>\n",
       "    </tr>\n",
       "    <tr>\n",
       "      <th>9704</th>\n",
       "      <td>23</td>\n",
       "      <td>Monte Carlo</td>\n",
       "      <td>Monte Carlo Masters</td>\n",
       "      <td>17/04/2003</td>\n",
       "      <td>Masters</td>\n",
       "      <td>Outdoor</td>\n",
       "      <td>Clay</td>\n",
       "      <td>3rd Round</td>\n",
       "      <td>3</td>\n",
       "      <td>26</td>\n",
       "      <td>109</td>\n",
       "      <td>2.0</td>\n",
       "      <td>0.0</td>\n",
       "      <td>Coria G.</td>\n",
       "      <td>False</td>\n",
       "      <td>Federico Coria</td>\n",
       "      <td>Federico Coria</td>\n",
       "    </tr>\n",
       "    <tr>\n",
       "      <th>9738</th>\n",
       "      <td>24</td>\n",
       "      <td>Barcelona</td>\n",
       "      <td>Open Seat Godo</td>\n",
       "      <td>22/04/2003</td>\n",
       "      <td>International Gold</td>\n",
       "      <td>Outdoor</td>\n",
       "      <td>Clay</td>\n",
       "      <td>1st Round</td>\n",
       "      <td>3</td>\n",
       "      <td>96</td>\n",
       "      <td>137</td>\n",
       "      <td>1.0</td>\n",
       "      <td>0.0</td>\n",
       "      <td>Marin J.A.</td>\n",
       "      <td>True</td>\n",
       "      <td>No match</td>\n",
       "      <td>No match</td>\n",
       "    </tr>\n",
       "    <tr>\n",
       "      <th>9753</th>\n",
       "      <td>24</td>\n",
       "      <td>Barcelona</td>\n",
       "      <td>Open Seat Godo</td>\n",
       "      <td>23/04/2003</td>\n",
       "      <td>International Gold</td>\n",
       "      <td>Outdoor</td>\n",
       "      <td>Clay</td>\n",
       "      <td>2nd Round</td>\n",
       "      <td>3</td>\n",
       "      <td>17</td>\n",
       "      <td>96</td>\n",
       "      <td>2.0</td>\n",
       "      <td>1.0</td>\n",
       "      <td>Corretja A.</td>\n",
       "      <td>False</td>\n",
       "      <td>No match</td>\n",
       "      <td>No match</td>\n",
       "    </tr>\n",
       "    <tr>\n",
       "      <th>...</th>\n",
       "      <td>...</td>\n",
       "      <td>...</td>\n",
       "      <td>...</td>\n",
       "      <td>...</td>\n",
       "      <td>...</td>\n",
       "      <td>...</td>\n",
       "      <td>...</td>\n",
       "      <td>...</td>\n",
       "      <td>...</td>\n",
       "      <td>...</td>\n",
       "      <td>...</td>\n",
       "      <td>...</td>\n",
       "      <td>...</td>\n",
       "      <td>...</td>\n",
       "      <td>...</td>\n",
       "      <td>...</td>\n",
       "      <td>...</td>\n",
       "    </tr>\n",
       "    <tr>\n",
       "      <th>46412</th>\n",
       "      <td>50</td>\n",
       "      <td>Cincinnati</td>\n",
       "      <td>Western &amp; Southern Financial Group Masters</td>\n",
       "      <td>18/08/2016</td>\n",
       "      <td>Masters 1000</td>\n",
       "      <td>Outdoor</td>\n",
       "      <td>Hard</td>\n",
       "      <td>3rd Round</td>\n",
       "      <td>3</td>\n",
       "      <td>49</td>\n",
       "      <td>5</td>\n",
       "      <td>2.0</td>\n",
       "      <td>0.0</td>\n",
       "      <td>Coric B.</td>\n",
       "      <td>False</td>\n",
       "      <td>Borna Coric</td>\n",
       "      <td>Borna Coric</td>\n",
       "    </tr>\n",
       "    <tr>\n",
       "      <th>46484</th>\n",
       "      <td>52</td>\n",
       "      <td>New York</td>\n",
       "      <td>US Open</td>\n",
       "      <td>29/08/2016</td>\n",
       "      <td>Grand Slam</td>\n",
       "      <td>Outdoor</td>\n",
       "      <td>Hard</td>\n",
       "      <td>1st Round</td>\n",
       "      <td>5</td>\n",
       "      <td>5</td>\n",
       "      <td>107</td>\n",
       "      <td>3.0</td>\n",
       "      <td>0.0</td>\n",
       "      <td>Istomin D.</td>\n",
       "      <td>True</td>\n",
       "      <td>Denis Istomin</td>\n",
       "      <td>Denis Istomin</td>\n",
       "    </tr>\n",
       "    <tr>\n",
       "      <th>46550</th>\n",
       "      <td>52</td>\n",
       "      <td>New York</td>\n",
       "      <td>US Open</td>\n",
       "      <td>1/09/2016</td>\n",
       "      <td>Grand Slam</td>\n",
       "      <td>Outdoor</td>\n",
       "      <td>Hard</td>\n",
       "      <td>2nd Round</td>\n",
       "      <td>5</td>\n",
       "      <td>5</td>\n",
       "      <td>87</td>\n",
       "      <td>3.0</td>\n",
       "      <td>0.0</td>\n",
       "      <td>Seppi A.</td>\n",
       "      <td>True</td>\n",
       "      <td>Andreas Seppi</td>\n",
       "      <td>Andreas Seppi</td>\n",
       "    </tr>\n",
       "    <tr>\n",
       "      <th>46574</th>\n",
       "      <td>52</td>\n",
       "      <td>New York</td>\n",
       "      <td>US Open</td>\n",
       "      <td>3/09/2016</td>\n",
       "      <td>Grand Slam</td>\n",
       "      <td>Outdoor</td>\n",
       "      <td>Hard</td>\n",
       "      <td>3rd Round</td>\n",
       "      <td>5</td>\n",
       "      <td>5</td>\n",
       "      <td>47</td>\n",
       "      <td>3.0</td>\n",
       "      <td>0.0</td>\n",
       "      <td>Kuznetsov An.</td>\n",
       "      <td>True</td>\n",
       "      <td>No match</td>\n",
       "      <td>No match</td>\n",
       "    </tr>\n",
       "    <tr>\n",
       "      <th>46585</th>\n",
       "      <td>52</td>\n",
       "      <td>New York</td>\n",
       "      <td>US Open</td>\n",
       "      <td>4/09/2016</td>\n",
       "      <td>Grand Slam</td>\n",
       "      <td>Outdoor</td>\n",
       "      <td>Hard</td>\n",
       "      <td>4th Round</td>\n",
       "      <td>5</td>\n",
       "      <td>25</td>\n",
       "      <td>5</td>\n",
       "      <td>3.0</td>\n",
       "      <td>2.0</td>\n",
       "      <td>Pouille L.</td>\n",
       "      <td>False</td>\n",
       "      <td>Lucas Pouille</td>\n",
       "      <td>Lucas Pouille</td>\n",
       "    </tr>\n",
       "  </tbody>\n",
       "</table>\n",
       "<p>950 rows × 17 columns</p>\n",
       "</div>"
      ],
      "text/plain": [
       "       ATP     Location                                  Tournament  \\\n",
       "9680    23  Monte Carlo                         Monte Carlo Masters   \n",
       "9694    23  Monte Carlo                         Monte Carlo Masters   \n",
       "9704    23  Monte Carlo                         Monte Carlo Masters   \n",
       "9738    24    Barcelona                              Open Seat Godo   \n",
       "9753    24    Barcelona                              Open Seat Godo   \n",
       "...    ...          ...                                         ...   \n",
       "46412   50   Cincinnati  Western & Southern Financial Group Masters   \n",
       "46484   52     New York                                     US Open   \n",
       "46550   52     New York                                     US Open   \n",
       "46574   52     New York                                     US Open   \n",
       "46585   52     New York                                     US Open   \n",
       "\n",
       "             Date              Series    Court Surface      Round  Best of  \\\n",
       "9680   15/04/2003             Masters  Outdoor    Clay  1st Round        3   \n",
       "9694   16/04/2003             Masters  Outdoor    Clay  2nd Round        3   \n",
       "9704   17/04/2003             Masters  Outdoor    Clay  3rd Round        3   \n",
       "9738   22/04/2003  International Gold  Outdoor    Clay  1st Round        3   \n",
       "9753   23/04/2003  International Gold  Outdoor    Clay  2nd Round        3   \n",
       "...           ...                 ...      ...     ...        ...      ...   \n",
       "46412  18/08/2016        Masters 1000  Outdoor    Hard  3rd Round        3   \n",
       "46484  29/08/2016          Grand Slam  Outdoor    Hard  1st Round        5   \n",
       "46550   1/09/2016          Grand Slam  Outdoor    Hard  2nd Round        5   \n",
       "46574   3/09/2016          Grand Slam  Outdoor    Hard  3rd Round        5   \n",
       "46585   4/09/2016          Grand Slam  Outdoor    Hard  4th Round        5   \n",
       "\n",
       "      WRank LRank  Wsets  Lsets       Opponent  Is_winner         matched  \\\n",
       "9680    109    49    2.0    0.0      Kucera K.       True        No match   \n",
       "9694    109     7    2.0    0.0       Costa A.       True        No match   \n",
       "9704     26   109    2.0    0.0       Coria G.      False  Federico Coria   \n",
       "9738     96   137    1.0    0.0     Marin J.A.       True        No match   \n",
       "9753     17    96    2.0    1.0    Corretja A.      False        No match   \n",
       "...     ...   ...    ...    ...            ...        ...             ...   \n",
       "46412    49     5    2.0    0.0       Coric B.      False     Borna Coric   \n",
       "46484     5   107    3.0    0.0     Istomin D.       True   Denis Istomin   \n",
       "46550     5    87    3.0    0.0       Seppi A.       True   Andreas Seppi   \n",
       "46574     5    47    3.0    0.0  Kuznetsov An.       True        No match   \n",
       "46585    25     5    3.0    2.0     Pouille L.      False   Lucas Pouille   \n",
       "\n",
       "             matched1  \n",
       "9680         No match  \n",
       "9694         No match  \n",
       "9704   Federico Coria  \n",
       "9738         No match  \n",
       "9753         No match  \n",
       "...               ...  \n",
       "46412     Borna Coric  \n",
       "46484   Denis Istomin  \n",
       "46550   Andreas Seppi  \n",
       "46574        No match  \n",
       "46585   Lucas Pouille  \n",
       "\n",
       "[950 rows x 17 columns]"
      ]
     },
     "execution_count": 216,
     "metadata": {},
     "output_type": "execute_result"
    }
   ],
   "source": [
    "df_games_merge"
   ]
  },
  {
   "cell_type": "code",
   "execution_count": null,
   "metadata": {},
   "outputs": [],
   "source": []
  }
 ],
 "metadata": {
  "kernelspec": {
   "display_name": "Python 3",
   "language": "python",
   "name": "python3"
  },
  "language_info": {
   "codemirror_mode": {
    "name": "ipython",
    "version": 3
   },
   "file_extension": ".py",
   "mimetype": "text/x-python",
   "name": "python",
   "nbconvert_exporter": "python",
   "pygments_lexer": "ipython3",
   "version": "3.8.3"
  }
 },
 "nbformat": 4,
 "nbformat_minor": 4
}
