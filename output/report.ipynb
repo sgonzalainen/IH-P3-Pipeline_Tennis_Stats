{
 "cells": [
  {
   "cell_type": "markdown",
   "metadata": {},
   "source": [
    "      \n",
    "<h1 align=\"center\">RAFAEL NADAL</h1> \n",
    "\n",
    "\n",
    "<img src=\"../files/src/img/flag.png\" \n",
    "         alt=\"alternate text\" \n",
    "         width=60\n",
    "         align=\"center;\"/>\n",
    "    \n",
    "\n",
    "         \n"
   ]
  },
  {
   "cell_type": "markdown",
   "metadata": {},
   "source": [
    "\n",
    "\n",
    "\n",
    "\n",
    "### Wins-Losses \n",
    "The following graph displays the number of games won and lost by player based on different type of court surfaces.\n",
    "\n",
    "\n",
    "For differences between type of court surfaces, refer to [here](https://livehealthy.chron.com/comparison-tennis-court-surfaces-4144.html).\n",
    "\n",
    "<div style=\"width:image width px; \n",
    "            font-size:80%; \n",
    "            text-align:center; \n",
    "            float: right; padding-left-right-top-bottom:0.5em;  \n",
    "            border-style: solid; border-color: rgba(211, 211, 211, 0.1);\n",
    "            background-color: rgba(0, 0, 0, 0.1);\">\n",
    "    <img src=\"files/img/wins_surface.png\" \n",
    "         alt=\"alternate text\" \n",
    "         width=450 \n",
    "         style=\"padding-bottom:0.5em;\"/>\n",
    "</div>"
   ]
  },
  {
   "cell_type": "markdown",
   "metadata": {},
   "source": [
    "### Losses details\n",
    "On the right, it is shown details of the games in which main player was defeated based on type of court, right or left-handed opponent and opponent being a great server*.\n",
    "\n",
    "\n",
    "For influence of being right or left-handed on different surfaces, refer to this interesting [article](https://www.nytimes.com/2011/06/27/sports/tennis/2011-wimbledon-left-handers-have-benefit-of-slice-and-singularity.html) about how lefties with great serve on grass surface have apparently an advantage.\n",
    "\n",
    "\n",
    "\n",
    "\n",
    "\n",
    "<div style=\"font-size: 12px\">\n",
    "    \n",
    "    \n",
    "    \n",
    "    \n",
    "\\* Great server considerered as player with Aces % above percentile 85.\n",
    "\n",
    "</div>\n",
    "\n",
    "<div style=\"width:image width px; \n",
    "            font-size:80%; \n",
    "            text-align:center; \n",
    "            float: right; padding-left-right-top-bottom:0.5em;  \n",
    "            border-style: solid; border-color: rgba(211, 211, 211, 0.1);\n",
    "            background-color: rgba(0, 0, 0, 0.1);\">\n",
    "    <img src=\"files/img/losses_details.png\" \n",
    "         alt=\"alternate text\" \n",
    "         width=450 \n",
    "         style=\"padding-bottom:0.5em;\"/>\n",
    "</div>\n",
    "\n",
    "\n",
    "\n"
   ]
  },
  {
   "cell_type": "markdown",
   "metadata": {},
   "source": [
    "### Preferred nationalities\n",
    "Where is main player mostly hated?\n",
    "\n",
    "Here is a plot which may solve this question.\n",
    "\n",
    "<div style=\"width:image width px; \n",
    "            font-size:80%; \n",
    "            text-align:center; \n",
    "            float: right; padding-left-right-top-bottom:0.5em;  \n",
    "            border-style: solid; border-color: rgba(211, 211, 211, 0.1);\n",
    "            background-color: rgba(0, 0, 0, 0.1);\">\n",
    "    <img src=\"files/img/top_countries_defeated.png\" \n",
    "         alt=\"alternate text\" \n",
    "         width=450 \n",
    "         style=\"padding-bottom:0.5em;\"/>\n",
    "</div>"
   ]
  },
  {
   "cell_type": "markdown",
   "metadata": {},
   "source": [
    "### Who are main player's Kryptonyte?\n",
    "These are the top 5 nemesis players for main player.\n",
    "\n",
    "<div style=\"width:image width px; \n",
    "            font-size:80%; \n",
    "            text-align:center; \n",
    "            float: right; padding-left-right-top-bottom:0.5em;  \n",
    "            border-style: solid; border-color: rgba(211, 211, 211, 0.1);\n",
    "            background-color: rgba(0, 0, 0, 0.1);\">\n",
    "    <img src=\"files/img/top_nemesis.png\" \n",
    "         alt=\"alternate text\" \n",
    "         width=450 \n",
    "         style=\"padding-bottom:0.5em;\"/>\n",
    "</div>\n",
    "\n"
   ]
  },
  {
   "cell_type": "markdown",
   "metadata": {},
   "source": [
    "### Is main player a great server?\n",
    "\n",
    "Here a glimpse of Ace % distribution among all tennis players.\n",
    "\n",
    "<div style=\"width:image width px; \n",
    "            font-size:80%; \n",
    "            text-align:center; \n",
    "            float: right; padding-left-right-top-bottom:0.5em;  \n",
    "            border-style: solid; border-color: rgba(211, 211, 211, 0.1);\n",
    "            background-color: rgba(0, 0, 0, 0.1);\">\n",
    "    <img src=\"files/img/aces_detail.png\" \n",
    "         alt=\"alternate text\" \n",
    "         width=450 \n",
    "         style=\"padding-bottom:0.5em;\"/>\n",
    "</div>\n",
    "\n"
   ]
  },
  {
   "cell_type": "code",
   "execution_count": null,
   "metadata": {},
   "outputs": [],
   "source": []
  }
 ],
 "metadata": {
  "kernelspec": {
   "display_name": "Python 3",
   "language": "python",
   "name": "python3"
  },
  "language_info": {
   "codemirror_mode": {
    "name": "ipython",
    "version": 3
   },
   "file_extension": ".py",
   "mimetype": "text/x-python",
   "name": "python",
   "nbconvert_exporter": "python",
   "pygments_lexer": "ipython3",
   "version": "3.8.3"
  }
 },
 "nbformat": 4,
 "nbformat_minor": 4
}
